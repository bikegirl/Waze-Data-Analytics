{
 "cells": [
  {
   "cell_type": "markdown",
   "metadata": {
    "id": "1WD1hC5MTRMS"
   },
   "source": [
    "# Activity: Discover what is in your dataset"
   ]
  },
  {
   "cell_type": "markdown",
   "metadata": {
    "id": "ee31943b-274e-4c28-bce6-155cb6f4c334"
   },
   "source": [
    "## Introduction\n",
    "\n",
    "In this activity, you will discover characteristics of a dataset and use visualizations to analyze the data. This will develop and strengthen your skills in **exploratory data analysis (EDA)** and your knowledge of functions that allow you to explore and visualize data. \n",
    "\n",
    "EDA is an essential process in a data science workflow. As a data professional, you will need to conduct this process to better understand the data at hand and determine how it can be used to solve the problem you want to address. This activity will give you an opportunity to practice that process and prepare you for EDA in future projects.\n",
    "\n",
    "In this activity, you are a member of an analytics team that provides insights to an investing firm. To help them decide which companies to invest in next, the firm wants insights into **unicorn companies**–companies that are valued at over one billion dollars. The data you will use for this task provides information on over 1,000 unicorn companies, including their industry, country, year founded, and select investors. You will use this information to gain insights into how and when companies reach this prestigious milestone and to make recommendations for next steps to the investing firm."
   ]
  },
  {
   "cell_type": "markdown",
   "metadata": {
    "id": "4bb9630e-b940-4835-a389-d39def1fa848"
   },
   "source": [
    "## Step 1: Imports"
   ]
  },
  {
   "cell_type": "markdown",
   "metadata": {
    "id": "bc180686-4ae2-47ea-a292-3588ac60a820"
   },
   "source": [
    "### Import libraries and packages \n",
    "\n",
    "First, import relevant Python libraries and modules. Use the `pandas` library and the `matplotlib.pyplot` module."
   ]
  },
  {
   "cell_type": "code",
   "execution_count": 2,
   "metadata": {
    "id": "8e7f1f2c-bbcc-4f3c-b927-b090ee8334c4"
   },
   "outputs": [],
   "source": [
    "# Import libraries and packages\n",
    "\n",
    "import pandas as pd\n",
    "import matplotlib.pyplot as plt"
   ]
  },
  {
   "cell_type": "markdown",
   "metadata": {
    "id": "7d29c6bd-f194-46bb-b794-56dc20130473"
   },
   "source": [
    "### Load the dataset into a DataFrame\n",
    "\n",
    "The dataset provided is in the form of a csv file named `Unicorn_Companies.csv` and contains a subset of data on unicorn companies. As shown in this cell, the dataset has been automatically loaded in for you. You do not need to download the .csv file, or provide more code, in order to access the dataset and proceed with this lab. Please continue with this activity by completing the following instructions."
   ]
  },
  {
   "cell_type": "code",
   "execution_count": 3,
   "metadata": {
    "id": "3bd40d44-080f-4e49-b0c2-160dedc3c4df"
   },
   "outputs": [],
   "source": [
    "# RUN THIS CELL TO IMPORT YOUR DATA.\n",
    "\n",
    "### YOUR CODE HERE ###\n",
    "companies = pd.read_csv(\"Unicorn_Companies.csv\")"
   ]
  },
  {
   "cell_type": "markdown",
   "metadata": {
    "id": "lXPOJ3LO-v7J",
    "jp-MarkdownHeadingCollapsed": true,
    "tags": []
   },
   "source": [
    "<details>\n",
    "  <summary><h4><strong>Hint 1</strong></h4></summary>\n",
    "\n",
    "Refer to what you learned about [loading data](https://www.coursera.org/learn/go-beyond-the-numbers-translate-data-into-insight/supplement/MdTG2/reference-guide-import-datasets-using-python) in Python.\n",
    "\n",
    "</details>"
   ]
  },
  {
   "cell_type": "markdown",
   "metadata": {
    "id": "O5TEL8Ty-v7L",
    "jp-MarkdownHeadingCollapsed": true,
    "tags": []
   },
   "source": [
    "<details>\n",
    "  <summary><h4><strong>Hint 2</strong></h4></summary>\n",
    "\n",
    "Use the function in the `pandas` library that allows you to read data from a csv file and load the data into a DataFrame.\n",
    " \n",
    "\n",
    "</details>"
   ]
  },
  {
   "cell_type": "markdown",
   "metadata": {
    "id": "kEx2SsH2-v7M",
    "jp-MarkdownHeadingCollapsed": true,
    "tags": []
   },
   "source": [
    "<details>\n",
    "  <summary><h4><strong>Hint 3</strong></h4></summary>\n",
    "\n",
    "Use the `read_csv()` function from the `pandas` library. \n",
    "\n",
    "</details>"
   ]
  },
  {
   "cell_type": "markdown",
   "metadata": {
    "id": "95bf39c9-d05c-4324-a40b-bc692607b61b"
   },
   "source": [
    "## Step 2: Data exploration"
   ]
  },
  {
   "cell_type": "markdown",
   "metadata": {
    "id": "26561614-8e9b-4840-8dbf-b50131ae5314",
    "tags": []
   },
   "source": [
    "### Display the first 10 rows of the data\n",
    "\n",
    "Next, explore the dataset and answer questions to guide your exploration and analysis of the data. To begin, display the first 10 rows of the data to get an understanding of how the dataset is structured."
   ]
  },
  {
   "cell_type": "code",
   "execution_count": 4,
   "metadata": {
    "id": "ad5210a5-7a64-4991-b004-de818cfaf506"
   },
   "outputs": [
    {
     "data": {
      "text/html": [
       "<div>\n",
       "<style scoped>\n",
       "    .dataframe tbody tr th:only-of-type {\n",
       "        vertical-align: middle;\n",
       "    }\n",
       "\n",
       "    .dataframe tbody tr th {\n",
       "        vertical-align: top;\n",
       "    }\n",
       "\n",
       "    .dataframe thead th {\n",
       "        text-align: right;\n",
       "    }\n",
       "</style>\n",
       "<table border=\"1\" class=\"dataframe\">\n",
       "  <thead>\n",
       "    <tr style=\"text-align: right;\">\n",
       "      <th></th>\n",
       "      <th>Company</th>\n",
       "      <th>Valuation</th>\n",
       "      <th>Date Joined</th>\n",
       "      <th>Industry</th>\n",
       "      <th>City</th>\n",
       "      <th>Country/Region</th>\n",
       "      <th>Continent</th>\n",
       "      <th>Year Founded</th>\n",
       "      <th>Funding</th>\n",
       "      <th>Select Investors</th>\n",
       "    </tr>\n",
       "  </thead>\n",
       "  <tbody>\n",
       "    <tr>\n",
       "      <th>0</th>\n",
       "      <td>Bytedance</td>\n",
       "      <td>$180B</td>\n",
       "      <td>4/7/17</td>\n",
       "      <td>Artificial intelligence</td>\n",
       "      <td>Beijing</td>\n",
       "      <td>China</td>\n",
       "      <td>Asia</td>\n",
       "      <td>2012</td>\n",
       "      <td>$8B</td>\n",
       "      <td>Sequoia Capital China, SIG Asia Investments, S...</td>\n",
       "    </tr>\n",
       "    <tr>\n",
       "      <th>1</th>\n",
       "      <td>SpaceX</td>\n",
       "      <td>$100B</td>\n",
       "      <td>12/1/12</td>\n",
       "      <td>Other</td>\n",
       "      <td>Hawthorne</td>\n",
       "      <td>United States</td>\n",
       "      <td>North America</td>\n",
       "      <td>2002</td>\n",
       "      <td>$7B</td>\n",
       "      <td>Founders Fund, Draper Fisher Jurvetson, Rothen...</td>\n",
       "    </tr>\n",
       "    <tr>\n",
       "      <th>2</th>\n",
       "      <td>SHEIN</td>\n",
       "      <td>$100B</td>\n",
       "      <td>7/3/18</td>\n",
       "      <td>E-commerce &amp; direct-to-consumer</td>\n",
       "      <td>Shenzhen</td>\n",
       "      <td>China</td>\n",
       "      <td>Asia</td>\n",
       "      <td>2008</td>\n",
       "      <td>$2B</td>\n",
       "      <td>Tiger Global Management, Sequoia Capital China...</td>\n",
       "    </tr>\n",
       "    <tr>\n",
       "      <th>3</th>\n",
       "      <td>Stripe</td>\n",
       "      <td>$95B</td>\n",
       "      <td>1/23/14</td>\n",
       "      <td>Fintech</td>\n",
       "      <td>San Francisco</td>\n",
       "      <td>United States</td>\n",
       "      <td>North America</td>\n",
       "      <td>2010</td>\n",
       "      <td>$2B</td>\n",
       "      <td>Khosla Ventures, LowercaseCapital, capitalG</td>\n",
       "    </tr>\n",
       "    <tr>\n",
       "      <th>4</th>\n",
       "      <td>Klarna</td>\n",
       "      <td>$46B</td>\n",
       "      <td>12/12/11</td>\n",
       "      <td>Fintech</td>\n",
       "      <td>Stockholm</td>\n",
       "      <td>Sweden</td>\n",
       "      <td>Europe</td>\n",
       "      <td>2005</td>\n",
       "      <td>$4B</td>\n",
       "      <td>Institutional Venture Partners, Sequoia Capita...</td>\n",
       "    </tr>\n",
       "    <tr>\n",
       "      <th>5</th>\n",
       "      <td>Canva</td>\n",
       "      <td>$40B</td>\n",
       "      <td>1/8/18</td>\n",
       "      <td>Internet software &amp; services</td>\n",
       "      <td>Surry Hills</td>\n",
       "      <td>Australia</td>\n",
       "      <td>Oceania</td>\n",
       "      <td>2012</td>\n",
       "      <td>$572M</td>\n",
       "      <td>Sequoia Capital China, Blackbird Ventures, Mat...</td>\n",
       "    </tr>\n",
       "    <tr>\n",
       "      <th>6</th>\n",
       "      <td>Checkout.com</td>\n",
       "      <td>$40B</td>\n",
       "      <td>5/2/19</td>\n",
       "      <td>Fintech</td>\n",
       "      <td>London</td>\n",
       "      <td>United Kingdom</td>\n",
       "      <td>Europe</td>\n",
       "      <td>2012</td>\n",
       "      <td>$2B</td>\n",
       "      <td>Tiger Global Management, Insight Partners, DST...</td>\n",
       "    </tr>\n",
       "    <tr>\n",
       "      <th>7</th>\n",
       "      <td>Instacart</td>\n",
       "      <td>$39B</td>\n",
       "      <td>12/30/14</td>\n",
       "      <td>Supply chain, logistics, &amp; delivery</td>\n",
       "      <td>San Francisco</td>\n",
       "      <td>United States</td>\n",
       "      <td>North America</td>\n",
       "      <td>2012</td>\n",
       "      <td>$3B</td>\n",
       "      <td>Khosla Ventures, Kleiner Perkins Caufield &amp; By...</td>\n",
       "    </tr>\n",
       "    <tr>\n",
       "      <th>8</th>\n",
       "      <td>JUUL Labs</td>\n",
       "      <td>$38B</td>\n",
       "      <td>12/20/17</td>\n",
       "      <td>Consumer &amp; retail</td>\n",
       "      <td>San Francisco</td>\n",
       "      <td>United States</td>\n",
       "      <td>North America</td>\n",
       "      <td>2015</td>\n",
       "      <td>$14B</td>\n",
       "      <td>Tiger Global Management</td>\n",
       "    </tr>\n",
       "    <tr>\n",
       "      <th>9</th>\n",
       "      <td>Databricks</td>\n",
       "      <td>$38B</td>\n",
       "      <td>2/5/19</td>\n",
       "      <td>Data management &amp; analytics</td>\n",
       "      <td>San Francisco</td>\n",
       "      <td>United States</td>\n",
       "      <td>North America</td>\n",
       "      <td>2013</td>\n",
       "      <td>$3B</td>\n",
       "      <td>Andreessen Horowitz, New Enterprise Associates...</td>\n",
       "    </tr>\n",
       "  </tbody>\n",
       "</table>\n",
       "</div>"
      ],
      "text/plain": [
       "        Company Valuation Date Joined                             Industry  \\\n",
       "0     Bytedance     $180B      4/7/17              Artificial intelligence   \n",
       "1        SpaceX     $100B     12/1/12                                Other   \n",
       "2         SHEIN     $100B      7/3/18      E-commerce & direct-to-consumer   \n",
       "3        Stripe      $95B     1/23/14                              Fintech   \n",
       "4        Klarna      $46B    12/12/11                              Fintech   \n",
       "5         Canva      $40B      1/8/18         Internet software & services   \n",
       "6  Checkout.com      $40B      5/2/19                              Fintech   \n",
       "7     Instacart      $39B    12/30/14  Supply chain, logistics, & delivery   \n",
       "8     JUUL Labs      $38B    12/20/17                    Consumer & retail   \n",
       "9    Databricks      $38B      2/5/19          Data management & analytics   \n",
       "\n",
       "            City  Country/Region      Continent  Year Founded Funding  \\\n",
       "0        Beijing           China           Asia          2012     $8B   \n",
       "1      Hawthorne   United States  North America          2002     $7B   \n",
       "2       Shenzhen           China           Asia          2008     $2B   \n",
       "3  San Francisco   United States  North America          2010     $2B   \n",
       "4      Stockholm          Sweden         Europe          2005     $4B   \n",
       "5    Surry Hills       Australia        Oceania          2012   $572M   \n",
       "6         London  United Kingdom         Europe          2012     $2B   \n",
       "7  San Francisco   United States  North America          2012     $3B   \n",
       "8  San Francisco   United States  North America          2015    $14B   \n",
       "9  San Francisco   United States  North America          2013     $3B   \n",
       "\n",
       "                                    Select Investors  \n",
       "0  Sequoia Capital China, SIG Asia Investments, S...  \n",
       "1  Founders Fund, Draper Fisher Jurvetson, Rothen...  \n",
       "2  Tiger Global Management, Sequoia Capital China...  \n",
       "3        Khosla Ventures, LowercaseCapital, capitalG  \n",
       "4  Institutional Venture Partners, Sequoia Capita...  \n",
       "5  Sequoia Capital China, Blackbird Ventures, Mat...  \n",
       "6  Tiger Global Management, Insight Partners, DST...  \n",
       "7  Khosla Ventures, Kleiner Perkins Caufield & By...  \n",
       "8                            Tiger Global Management  \n",
       "9  Andreessen Horowitz, New Enterprise Associates...  "
      ]
     },
     "execution_count": 4,
     "metadata": {},
     "output_type": "execute_result"
    }
   ],
   "source": [
    "# Display the first 10 rows of the data\n",
    "\n",
    "companies.head(10)"
   ]
  },
  {
   "cell_type": "markdown",
   "metadata": {
    "id": "49881dfd-4532-424f-9729-f5378d984df0",
    "jp-MarkdownHeadingCollapsed": true,
    "tags": []
   },
   "source": [
    "<details>\n",
    "  <summary><h4><strong>Hint 1</strong></h4></summary>\n",
    "\n",
    "Refer to [the content about exploratory data analysis in Python](https://www.coursera.org/learn/go-beyond-the-numbers-translate-data-into-insight/lecture/kfl9b/find-stories-using-the-six-exploratory-data-analysis-practices).\n",
    "\n",
    "</details>"
   ]
  },
  {
   "cell_type": "markdown",
   "metadata": {
    "id": "k2QxFOi9HW1Q",
    "jp-MarkdownHeadingCollapsed": true,
    "tags": []
   },
   "source": [
    "<details>\n",
    "  <summary><h4><strong>Hint 2</strong></h4></summary>\n",
    "\n",
    "Use the function in the `pandas` library that allows you to get a specific number of rows from the top of a DataFrame.\n",
    " \n",
    "\n",
    "</details>"
   ]
  },
  {
   "cell_type": "markdown",
   "metadata": {
    "id": "ptkclWFzHjHv",
    "jp-MarkdownHeadingCollapsed": true,
    "tags": []
   },
   "source": [
    "<details>\n",
    "  <summary><h4><strong>Hint 3</strong></h4></summary>\n",
    "\n",
    "Use the `head()` function from the `pandas` library. \n",
    "\n",
    "</details>"
   ]
  },
  {
   "cell_type": "markdown",
   "metadata": {
    "id": "fb45ed17-5e22-4d48-9750-130a8586bbf9",
    "tags": []
   },
   "source": [
    "**Question:** What do you think the \"Date Joined\" column represents?"
   ]
  },
  {
   "cell_type": "markdown",
   "metadata": {
    "id": "EvIbtmjalQHF"
   },
   "source": [
    " The date the company joined the billion dollar club"
   ]
  },
  {
   "cell_type": "markdown",
   "metadata": {
    "id": "46e7fce4-b8dc-4f53-9f5f-a7d7fdfe0831",
    "tags": []
   },
   "source": [
    "**Question:** What do you think the \"Select Investors\" column represents?"
   ]
  },
  {
   "cell_type": "markdown",
   "metadata": {
    "id": "1sdw8O-PlQ19"
   },
   "source": [
    "Stakeholders or hedge funds that invested initially into the company."
   ]
  },
  {
   "cell_type": "markdown",
   "metadata": {
    "id": "6d423621-c14b-4987-a76d-feee76046144"
   },
   "source": [
    "### Assess the size of the dataset\n",
    "\n",
    "Get a sense of how large the dataset is. The `size` property that DataFrames have can help."
   ]
  },
  {
   "cell_type": "code",
   "execution_count": 8,
   "metadata": {
    "id": "1856c3c8-dd7e-4b0f-8e30-06e8ed6b9885"
   },
   "outputs": [
    {
     "data": {
      "text/plain": [
       "10740"
      ]
     },
     "execution_count": 8,
     "metadata": {},
     "output_type": "execute_result"
    }
   ],
   "source": [
    "# How large the dataset is\n",
    "\n",
    "companies.size"
   ]
  },
  {
   "cell_type": "markdown",
   "metadata": {
    "id": "a1188994-353a-466e-884c-e7b770fa03ac",
    "jp-MarkdownHeadingCollapsed": true,
    "tags": []
   },
   "source": [
    "**Question:** What do you notice about the size of the dataset?"
   ]
  },
  {
   "cell_type": "markdown",
   "metadata": {
    "id": "gLRHG7k6lPC2"
   },
   "source": [
    "It seems that there is 10,740 companies"
   ]
  },
  {
   "cell_type": "markdown",
   "metadata": {
    "id": "e31095a6-5526-42d3-b1c0-b77c1f8b3852"
   },
   "source": [
    "### Determine the shape of the dataset\n",
    "\n",
    "Identify the number of rows and columns in the dataset. The `shape` property that DataFrames have can help."
   ]
  },
  {
   "cell_type": "code",
   "execution_count": 9,
   "metadata": {
    "id": "df3c71a1-2519-4c50-86c2-63902a534d27"
   },
   "outputs": [
    {
     "data": {
      "text/plain": [
       "(1074, 10)"
      ]
     },
     "execution_count": 9,
     "metadata": {},
     "output_type": "execute_result"
    }
   ],
   "source": [
    "# Shape of the dataset\n",
    "\n",
    "companies.shape"
   ]
  },
  {
   "cell_type": "markdown",
   "metadata": {
    "id": "4c2998a8-f864-43eb-a2d5-64845ebc805c"
   },
   "source": [
    "**Question:** What do you notice about the shape of the dataset?"
   ]
  },
  {
   "cell_type": "markdown",
   "metadata": {
    "id": "2D8Ix19xlOHv"
   },
   "source": [
    "1074 rows and 10 columns."
   ]
  },
  {
   "cell_type": "markdown",
   "metadata": {
    "id": "b9c8ecb7-c202-4d0a-92ad-b6b6737bc167"
   },
   "source": [
    "### Get basic information about the dataset\n",
    "\n",
    "To further understand what the dataset entails, get basic information about the dataset, including the data type of values in each column. There is more than one way to approach this task. In this instance, use the `info()` function from `pandas`."
   ]
  },
  {
   "cell_type": "code",
   "execution_count": 16,
   "metadata": {
    "id": "eedad8b8-ca45-430e-91d2-eff3ad66adaf"
   },
   "outputs": [
    {
     "name": "stdout",
     "output_type": "stream",
     "text": [
      "<class 'pandas.core.frame.DataFrame'>\n",
      "RangeIndex: 1074 entries, 0 to 1073\n",
      "Data columns (total 10 columns):\n",
      " #   Column            Non-Null Count  Dtype \n",
      "---  ------            --------------  ----- \n",
      " 0   Company           1074 non-null   object\n",
      " 1   Valuation         1074 non-null   object\n",
      " 2   Date Joined       1074 non-null   object\n",
      " 3   Industry          1074 non-null   object\n",
      " 4   City              1058 non-null   object\n",
      " 5   Country/Region    1074 non-null   object\n",
      " 6   Continent         1074 non-null   object\n",
      " 7   Year Founded      1074 non-null   int64 \n",
      " 8   Funding           1074 non-null   object\n",
      " 9   Select Investors  1073 non-null   object\n",
      "dtypes: int64(1), object(9)\n",
      "memory usage: 84.0+ KB\n",
      "None\n",
      "Company              0\n",
      "Valuation            0\n",
      "Date Joined          0\n",
      "Industry             0\n",
      "City                16\n",
      "Country/Region       0\n",
      "Continent            0\n",
      "Year Founded         0\n",
      "Funding              0\n",
      "Select Investors     1\n",
      "dtype: int64\n"
     ]
    }
   ],
   "source": [
    "# Get information\n",
    "\n",
    "print(companies.info())\n",
    "print(companies.isnull().sum())"
   ]
  },
  {
   "cell_type": "markdown",
   "metadata": {
    "id": "bd6573bc-2adb-410e-a85c-d6d5886d51bf"
   },
   "source": [
    "**Question:** What do you notice about the type of data in the `Year Founded` column? Refer to the output from using `info()` above. Knowing the data type of this variable is helpful because it indicates what types of analysis can be done with that variable, how it can be aggregated with other variables, and so on."
   ]
  },
  {
   "cell_type": "markdown",
   "metadata": {
    "id": "z_zKTLpXlF3D"
   },
   "source": [
    "Integer"
   ]
  },
  {
   "cell_type": "markdown",
   "metadata": {
    "id": "e6da795c-331b-4271-9825-103112cb08da"
   },
   "source": [
    "**Question:** What do you notice about the type of data in the `Date Joined` column? Refer to the output from using `info()` above. Knowing the data type of this variable is helpful because it indicates what types of analysis can be done with that variable and how the variable can be transformed to suit specific tasks."
   ]
  },
  {
   "cell_type": "markdown",
   "metadata": {
    "id": "oS1P_JQNlMFQ"
   },
   "source": [
    "String object, which means we can impose a datetime object into this column"
   ]
  },
  {
   "cell_type": "markdown",
   "metadata": {
    "id": "XFkjw_Ke2Cjn"
   },
   "source": [
    "## Step 3: Statistical tests"
   ]
  },
  {
   "cell_type": "markdown",
   "metadata": {
    "id": "7dac147e-19e1-49e7-bd80-e122390c3a70",
    "tags": []
   },
   "source": [
    "### Find descriptive statistics\n",
    "\n",
    "Find descriptive statistics and structure your dataset. The `describe()` function from the `pandas` library can help. This function generates statistics for the numeric columns in a dataset. "
   ]
  },
  {
   "cell_type": "code",
   "execution_count": 17,
   "metadata": {
    "id": "13f1c1dd-5637-4726-8fa0-2fbd838e4afa"
   },
   "outputs": [
    {
     "data": {
      "text/html": [
       "<div>\n",
       "<style scoped>\n",
       "    .dataframe tbody tr th:only-of-type {\n",
       "        vertical-align: middle;\n",
       "    }\n",
       "\n",
       "    .dataframe tbody tr th {\n",
       "        vertical-align: top;\n",
       "    }\n",
       "\n",
       "    .dataframe thead th {\n",
       "        text-align: right;\n",
       "    }\n",
       "</style>\n",
       "<table border=\"1\" class=\"dataframe\">\n",
       "  <thead>\n",
       "    <tr style=\"text-align: right;\">\n",
       "      <th></th>\n",
       "      <th>Year Founded</th>\n",
       "    </tr>\n",
       "  </thead>\n",
       "  <tbody>\n",
       "    <tr>\n",
       "      <th>count</th>\n",
       "      <td>1074.000000</td>\n",
       "    </tr>\n",
       "    <tr>\n",
       "      <th>mean</th>\n",
       "      <td>2012.895717</td>\n",
       "    </tr>\n",
       "    <tr>\n",
       "      <th>std</th>\n",
       "      <td>5.698573</td>\n",
       "    </tr>\n",
       "    <tr>\n",
       "      <th>min</th>\n",
       "      <td>1919.000000</td>\n",
       "    </tr>\n",
       "    <tr>\n",
       "      <th>25%</th>\n",
       "      <td>2011.000000</td>\n",
       "    </tr>\n",
       "    <tr>\n",
       "      <th>50%</th>\n",
       "      <td>2014.000000</td>\n",
       "    </tr>\n",
       "    <tr>\n",
       "      <th>75%</th>\n",
       "      <td>2016.000000</td>\n",
       "    </tr>\n",
       "    <tr>\n",
       "      <th>max</th>\n",
       "      <td>2021.000000</td>\n",
       "    </tr>\n",
       "  </tbody>\n",
       "</table>\n",
       "</div>"
      ],
      "text/plain": [
       "       Year Founded\n",
       "count   1074.000000\n",
       "mean    2012.895717\n",
       "std        5.698573\n",
       "min     1919.000000\n",
       "25%     2011.000000\n",
       "50%     2014.000000\n",
       "75%     2016.000000\n",
       "max     2021.000000"
      ]
     },
     "execution_count": 17,
     "metadata": {},
     "output_type": "execute_result"
    }
   ],
   "source": [
    "# Get descriptive statistics\n",
    "\n",
    "companies.describe()\n"
   ]
  },
  {
   "cell_type": "markdown",
   "metadata": {
    "id": "a70475eb-d3a6-42e4-8b71-a49b5a1aa0db"
   },
   "source": [
    "**Question:** Based on the table of descriptive stats generated above, what do you notice about the minimum value in the `Year Founded` column? This is important to know because it helps you understand how early the entries in the data begin."
   ]
  },
  {
   "cell_type": "markdown",
   "metadata": {
    "id": "KoM_YE7TlSx7"
   },
   "source": [
    "Since the year is the only numberical column, it was the only column with descriptive stats."
   ]
  },
  {
   "cell_type": "markdown",
   "metadata": {
    "id": "390764a7-961c-4ec7-ae11-38943d94b788",
    "tags": []
   },
   "source": [
    "**Question:** What do you notice about the maximum value in the `Year Founded` column? This is important to know because it helps you understand the most recent year captured by the data. "
   ]
  },
  {
   "cell_type": "markdown",
   "metadata": {
    "id": "7HQWuLNhZXTZ"
   },
   "source": [
    "1 of the billion dollar companies was just founded, interesting."
   ]
  },
  {
   "cell_type": "markdown",
   "metadata": {
    "id": "94b53c7f-54d8-4d1a-ae07-7c28c2ab8f5b",
    "tags": []
   },
   "source": [
    "### Convert the `Date Joined` column to datetime\n",
    "\n",
    "Use the `to_datetime()` function from the `pandas` library  to convert the `Date Joined` column to datetime. This splits each value into year, month, and date components. This is an important step in data cleaning, as it makes the data in this column easier to use in tasks you may encounter. To name a few examples, you may need to compare \"date joined\" between companies or determine how long it took a company to become a unicorn. Having \"date joined\" in datetime form would help you complete such tasks."
   ]
  },
  {
   "cell_type": "code",
   "execution_count": 20,
   "metadata": {
    "id": "afe607c8-9dd7-47c3-9fc8-88772f015e2b"
   },
   "outputs": [],
   "source": [
    "# Step 1: Use pd.to_datetime() to convert Date Joined column to datetime \n",
    "# Step 2: Update the column with the converted values\n",
    "\n",
    "companies['Date Joined'] = pd.to_datetime(companies['Date Joined'])\n"
   ]
  },
  {
   "cell_type": "code",
   "execution_count": 21,
   "metadata": {
    "id": "SBg22N43bA17"
   },
   "outputs": [
    {
     "name": "stdout",
     "output_type": "stream",
     "text": [
      "<class 'pandas.core.frame.DataFrame'>\n",
      "RangeIndex: 1074 entries, 0 to 1073\n",
      "Data columns (total 10 columns):\n",
      " #   Column            Non-Null Count  Dtype         \n",
      "---  ------            --------------  -----         \n",
      " 0   Company           1074 non-null   object        \n",
      " 1   Valuation         1074 non-null   object        \n",
      " 2   Date Joined       1074 non-null   datetime64[ns]\n",
      " 3   Industry          1074 non-null   object        \n",
      " 4   City              1058 non-null   object        \n",
      " 5   Country/Region    1074 non-null   object        \n",
      " 6   Continent         1074 non-null   object        \n",
      " 7   Year Founded      1074 non-null   int64         \n",
      " 8   Funding           1074 non-null   object        \n",
      " 9   Select Investors  1073 non-null   object        \n",
      "dtypes: datetime64[ns](1), int64(1), object(8)\n",
      "memory usage: 84.0+ KB\n"
     ]
    }
   ],
   "source": [
    "# Use .info() to confirm that the update actually took place\n",
    "\n",
    "companies.info()\n"
   ]
  },
  {
   "cell_type": "markdown",
   "metadata": {
    "id": "ae351a97-926e-40af-91e2-4bd12a5bf888",
    "tags": []
   },
   "source": [
    "### Create a `Year Joined` column\n",
    "\n",
    "It is common to encounter situations where you will need to compare the year joined with the year founded. The `Date Joined` column does not just have year—it has the year, month, and date. Extract the year component from the `Date Joined` column and add those year components into a new column to keep track of each company's year joined."
   ]
  },
  {
   "cell_type": "code",
   "execution_count": 22,
   "metadata": {
    "id": "7d8be21b-d625-4a8a-ad8b-a2e4ae7a2c4e"
   },
   "outputs": [],
   "source": [
    "# Step 1: Use .dt.year to extract year component from Date Joined column\n",
    "# Step 2: Add the result as a new column named Year Joined to the DataFrame\n",
    "\n",
    "companies['Year Joined'] = companies['Date Joined'].dt.year\n"
   ]
  },
  {
   "cell_type": "code",
   "execution_count": 23,
   "metadata": {
    "id": "eSycjkBTbQB4"
   },
   "outputs": [
    {
     "data": {
      "text/html": [
       "<div>\n",
       "<style scoped>\n",
       "    .dataframe tbody tr th:only-of-type {\n",
       "        vertical-align: middle;\n",
       "    }\n",
       "\n",
       "    .dataframe tbody tr th {\n",
       "        vertical-align: top;\n",
       "    }\n",
       "\n",
       "    .dataframe thead th {\n",
       "        text-align: right;\n",
       "    }\n",
       "</style>\n",
       "<table border=\"1\" class=\"dataframe\">\n",
       "  <thead>\n",
       "    <tr style=\"text-align: right;\">\n",
       "      <th></th>\n",
       "      <th>Company</th>\n",
       "      <th>Valuation</th>\n",
       "      <th>Date Joined</th>\n",
       "      <th>Industry</th>\n",
       "      <th>City</th>\n",
       "      <th>Country/Region</th>\n",
       "      <th>Continent</th>\n",
       "      <th>Year Founded</th>\n",
       "      <th>Funding</th>\n",
       "      <th>Select Investors</th>\n",
       "      <th>Year Joined</th>\n",
       "    </tr>\n",
       "  </thead>\n",
       "  <tbody>\n",
       "    <tr>\n",
       "      <th>0</th>\n",
       "      <td>Bytedance</td>\n",
       "      <td>$180B</td>\n",
       "      <td>2017-04-07</td>\n",
       "      <td>Artificial intelligence</td>\n",
       "      <td>Beijing</td>\n",
       "      <td>China</td>\n",
       "      <td>Asia</td>\n",
       "      <td>2012</td>\n",
       "      <td>$8B</td>\n",
       "      <td>Sequoia Capital China, SIG Asia Investments, S...</td>\n",
       "      <td>2017</td>\n",
       "    </tr>\n",
       "    <tr>\n",
       "      <th>1</th>\n",
       "      <td>SpaceX</td>\n",
       "      <td>$100B</td>\n",
       "      <td>2012-12-01</td>\n",
       "      <td>Other</td>\n",
       "      <td>Hawthorne</td>\n",
       "      <td>United States</td>\n",
       "      <td>North America</td>\n",
       "      <td>2002</td>\n",
       "      <td>$7B</td>\n",
       "      <td>Founders Fund, Draper Fisher Jurvetson, Rothen...</td>\n",
       "      <td>2012</td>\n",
       "    </tr>\n",
       "    <tr>\n",
       "      <th>2</th>\n",
       "      <td>SHEIN</td>\n",
       "      <td>$100B</td>\n",
       "      <td>2018-07-03</td>\n",
       "      <td>E-commerce &amp; direct-to-consumer</td>\n",
       "      <td>Shenzhen</td>\n",
       "      <td>China</td>\n",
       "      <td>Asia</td>\n",
       "      <td>2008</td>\n",
       "      <td>$2B</td>\n",
       "      <td>Tiger Global Management, Sequoia Capital China...</td>\n",
       "      <td>2018</td>\n",
       "    </tr>\n",
       "    <tr>\n",
       "      <th>3</th>\n",
       "      <td>Stripe</td>\n",
       "      <td>$95B</td>\n",
       "      <td>2014-01-23</td>\n",
       "      <td>Fintech</td>\n",
       "      <td>San Francisco</td>\n",
       "      <td>United States</td>\n",
       "      <td>North America</td>\n",
       "      <td>2010</td>\n",
       "      <td>$2B</td>\n",
       "      <td>Khosla Ventures, LowercaseCapital, capitalG</td>\n",
       "      <td>2014</td>\n",
       "    </tr>\n",
       "    <tr>\n",
       "      <th>4</th>\n",
       "      <td>Klarna</td>\n",
       "      <td>$46B</td>\n",
       "      <td>2011-12-12</td>\n",
       "      <td>Fintech</td>\n",
       "      <td>Stockholm</td>\n",
       "      <td>Sweden</td>\n",
       "      <td>Europe</td>\n",
       "      <td>2005</td>\n",
       "      <td>$4B</td>\n",
       "      <td>Institutional Venture Partners, Sequoia Capita...</td>\n",
       "      <td>2011</td>\n",
       "    </tr>\n",
       "    <tr>\n",
       "      <th>5</th>\n",
       "      <td>Canva</td>\n",
       "      <td>$40B</td>\n",
       "      <td>2018-01-08</td>\n",
       "      <td>Internet software &amp; services</td>\n",
       "      <td>Surry Hills</td>\n",
       "      <td>Australia</td>\n",
       "      <td>Oceania</td>\n",
       "      <td>2012</td>\n",
       "      <td>$572M</td>\n",
       "      <td>Sequoia Capital China, Blackbird Ventures, Mat...</td>\n",
       "      <td>2018</td>\n",
       "    </tr>\n",
       "    <tr>\n",
       "      <th>6</th>\n",
       "      <td>Checkout.com</td>\n",
       "      <td>$40B</td>\n",
       "      <td>2019-05-02</td>\n",
       "      <td>Fintech</td>\n",
       "      <td>London</td>\n",
       "      <td>United Kingdom</td>\n",
       "      <td>Europe</td>\n",
       "      <td>2012</td>\n",
       "      <td>$2B</td>\n",
       "      <td>Tiger Global Management, Insight Partners, DST...</td>\n",
       "      <td>2019</td>\n",
       "    </tr>\n",
       "    <tr>\n",
       "      <th>7</th>\n",
       "      <td>Instacart</td>\n",
       "      <td>$39B</td>\n",
       "      <td>2014-12-30</td>\n",
       "      <td>Supply chain, logistics, &amp; delivery</td>\n",
       "      <td>San Francisco</td>\n",
       "      <td>United States</td>\n",
       "      <td>North America</td>\n",
       "      <td>2012</td>\n",
       "      <td>$3B</td>\n",
       "      <td>Khosla Ventures, Kleiner Perkins Caufield &amp; By...</td>\n",
       "      <td>2014</td>\n",
       "    </tr>\n",
       "    <tr>\n",
       "      <th>8</th>\n",
       "      <td>JUUL Labs</td>\n",
       "      <td>$38B</td>\n",
       "      <td>2017-12-20</td>\n",
       "      <td>Consumer &amp; retail</td>\n",
       "      <td>San Francisco</td>\n",
       "      <td>United States</td>\n",
       "      <td>North America</td>\n",
       "      <td>2015</td>\n",
       "      <td>$14B</td>\n",
       "      <td>Tiger Global Management</td>\n",
       "      <td>2017</td>\n",
       "    </tr>\n",
       "    <tr>\n",
       "      <th>9</th>\n",
       "      <td>Databricks</td>\n",
       "      <td>$38B</td>\n",
       "      <td>2019-02-05</td>\n",
       "      <td>Data management &amp; analytics</td>\n",
       "      <td>San Francisco</td>\n",
       "      <td>United States</td>\n",
       "      <td>North America</td>\n",
       "      <td>2013</td>\n",
       "      <td>$3B</td>\n",
       "      <td>Andreessen Horowitz, New Enterprise Associates...</td>\n",
       "      <td>2019</td>\n",
       "    </tr>\n",
       "  </tbody>\n",
       "</table>\n",
       "</div>"
      ],
      "text/plain": [
       "        Company Valuation Date Joined                             Industry  \\\n",
       "0     Bytedance     $180B  2017-04-07              Artificial intelligence   \n",
       "1        SpaceX     $100B  2012-12-01                                Other   \n",
       "2         SHEIN     $100B  2018-07-03      E-commerce & direct-to-consumer   \n",
       "3        Stripe      $95B  2014-01-23                              Fintech   \n",
       "4        Klarna      $46B  2011-12-12                              Fintech   \n",
       "5         Canva      $40B  2018-01-08         Internet software & services   \n",
       "6  Checkout.com      $40B  2019-05-02                              Fintech   \n",
       "7     Instacart      $39B  2014-12-30  Supply chain, logistics, & delivery   \n",
       "8     JUUL Labs      $38B  2017-12-20                    Consumer & retail   \n",
       "9    Databricks      $38B  2019-02-05          Data management & analytics   \n",
       "\n",
       "            City  Country/Region      Continent  Year Founded Funding  \\\n",
       "0        Beijing           China           Asia          2012     $8B   \n",
       "1      Hawthorne   United States  North America          2002     $7B   \n",
       "2       Shenzhen           China           Asia          2008     $2B   \n",
       "3  San Francisco   United States  North America          2010     $2B   \n",
       "4      Stockholm          Sweden         Europe          2005     $4B   \n",
       "5    Surry Hills       Australia        Oceania          2012   $572M   \n",
       "6         London  United Kingdom         Europe          2012     $2B   \n",
       "7  San Francisco   United States  North America          2012     $3B   \n",
       "8  San Francisco   United States  North America          2015    $14B   \n",
       "9  San Francisco   United States  North America          2013     $3B   \n",
       "\n",
       "                                    Select Investors  Year Joined  \n",
       "0  Sequoia Capital China, SIG Asia Investments, S...         2017  \n",
       "1  Founders Fund, Draper Fisher Jurvetson, Rothen...         2012  \n",
       "2  Tiger Global Management, Sequoia Capital China...         2018  \n",
       "3        Khosla Ventures, LowercaseCapital, capitalG         2014  \n",
       "4  Institutional Venture Partners, Sequoia Capita...         2011  \n",
       "5  Sequoia Capital China, Blackbird Ventures, Mat...         2018  \n",
       "6  Tiger Global Management, Insight Partners, DST...         2019  \n",
       "7  Khosla Ventures, Kleiner Perkins Caufield & By...         2014  \n",
       "8                            Tiger Global Management         2017  \n",
       "9  Andreessen Horowitz, New Enterprise Associates...         2019  "
      ]
     },
     "execution_count": 23,
     "metadata": {},
     "output_type": "execute_result"
    }
   ],
   "source": [
    "# Use .head() to confirm that the new column did get added\n",
    "\n",
    "companies.head(10)\n"
   ]
  },
  {
   "cell_type": "markdown",
   "metadata": {
    "id": "B4_yxUrQ2Yhp"
   },
   "source": [
    "## Step 4: Results and evaluation\n"
   ]
  },
  {
   "cell_type": "markdown",
   "metadata": {
    "id": "5a99bfd0-95e9-4ed3-a01a-2e430967f98e",
    "tags": []
   },
   "source": [
    "### Take a sample of the data\n",
    "\n",
    "It is not necessary to take a sample of the data in order to conduct the visualizations and EDA that follow. But you may encounter scenarios in the future where you will need to take a sample of the data due to time and resource limitations. For the purpose of developing your skills around sampling, take a sample of the data and work with that sample for the next steps of analysis you want to conduct. Use the `sample()` function for this task.\n",
    "\n",
    "- Use `sample()` with the `n` parameter set to `50` to randomly sample 50 unicorn companies from the data. Be sure to specify the `random_state` parameter to ensure reproducibility of your work. Save the result to a variable called `companies_sampled`."
   ]
  },
  {
   "cell_type": "code",
   "execution_count": 24,
   "metadata": {
    "id": "1e5df00e-d64f-417c-b7fc-311a960ecc8c"
   },
   "outputs": [],
   "source": [
    "# Sample the data\n",
    "\n",
    "companies_sampled = companies.sample(n=50, random_state=7)\n"
   ]
  },
  {
   "cell_type": "markdown",
   "metadata": {
    "id": "10beff64-16e0-464d-93f0-03ab61f7069b",
    "tags": []
   },
   "source": [
    "### Visualize the time it took companies to reach unicorn status\n",
    "\n",
    "Visualize the longest time it took companies to reach unicorn status for each industry represented in the sample. To create a bar plot to visualize this, use the `bar()` function from the `matplotlib.pyplot` module. You'll first need to prepare the data."
   ]
  },
  {
   "cell_type": "code",
   "execution_count": 121,
   "metadata": {},
   "outputs": [
    {
     "data": {
      "text/plain": [
       "'{\"Industry\":{\"0\":\"Auto & transportation\",\"1\":\"Travel\",\"2\":\"Hardware\",\"3\":\"Artificial intelligence\",\"4\":\"Other\",\"5\":\"Mobile & telecommunications\",\"6\":\"Supply chain, logistics, & delivery\",\"7\":\"Internet software & services\",\"8\":\"Cybersecurity\",\"9\":\"Data management & analytics\",\"10\":\"E-commerce & direct-to-consumer\",\"11\":\"Fintech\",\"12\":\"Health\"},\"num_years_to_unicorn_status\":{\"0\":3,\"1\":3,\"2\":5,\"3\":7,\"4\":8,\"5\":10,\"6\":11,\"7\":13,\"8\":14,\"9\":14,\"10\":14,\"11\":16,\"12\":98}}'"
      ]
     },
     "execution_count": 121,
     "metadata": {},
     "output_type": "execute_result"
    }
   ],
   "source": [
    "# Prepare data for plotting\n",
    "\n",
    "companies_sampled['num_years_to_unicorn_status'] = companies_sampled['Year Joined'] - companies_sampled['Year Founded']\n",
    "companies_sampled[['Year Joined', 'Year Founded', 'num_years_to_unicorn_status']].head(3)\n",
    "companies_sampled['Industry'].head(3)\n",
    "#companies_sampled_by_industry\n",
    "companies_sampled_by_industry = companies_sampled.groupby('Industry')[['num_years_to_unicorn_status']].max().sort_values('num_years_to_unicorn_status').reset_index()\n",
    "companies_sampled_by_industry.to_json()\n"
   ]
  },
  {
   "cell_type": "code",
   "execution_count": 122,
   "metadata": {
    "id": "1153ca76-f1e3-4fea-a2db-a5de23614abd"
   },
   "outputs": [
    {
     "data": {
      "image/png": "[encoded data removed]",
      "text/plain": [
       "<Figure size 432x288 with 1 Axes>"
      ]
     },
     "metadata": {
      "needs_background": "light"
     },
     "output_type": "display_data"
    }
   ],
   "source": [
    "# Create bar plot\n",
    "# with the various industries as the categories of the bars\n",
    "# and the time it took to reach unicorn status as the height of the bars\n",
    "\n",
    "plt.bar(x=companies_sampled_by_industry['Industry'], \n",
    "        height=companies_sampled_by_industry['num_years_to_unicorn_status'], \n",
    "        label='Number of Years')\n",
    "plt.plot()\n",
    "plt.xlabel('Industry')\n",
    "plt.ylabel('Years to Unicorn')\n",
    "plt.title('The Number of Years to Reach Unicorn Status')\n",
    "plt.legend()\n",
    "\n",
    "\n",
    "\n",
    "\n",
    "# Set title\n",
    "\n",
    "### YOUR CODE HERE ###\n",
    "\n",
    "\n",
    "# Set x-axis label\n",
    "\n",
    "### YOUR CODE HERE ###\n",
    "\n",
    "\n",
    "# Set y-axis label\n",
    "\n",
    "### YOUR CODE HERE ###\n",
    "\n",
    "\n",
    "# Rotate labels on the x-axis as a way to avoid overlap in the positions of the text\n",
    "\n",
    "plt.xticks(rotation=45, ha='right')\n",
    "plt.tight_layout()\n",
    "plt.show()\n",
    "\n",
    "\n",
    "# Display the plot\n",
    "\n",
    "### YOUR CODE HERE ###\n"
   ]
  },
  {
   "cell_type": "markdown",
   "metadata": {
    "id": "BtgkB4fVudvo",
    "jp-MarkdownHeadingCollapsed": true,
    "tags": []
   },
   "source": [
    "<details>\n",
    "  <summary><h4><strong>Hint 1</strong></h4></summary>\n",
    "\n",
    "To prepare the data for modeling, begin by creating a column that represents the number of years it took each company to reach unicorn status. \n",
    "\n",
    "</details>"
   ]
  },
  {
   "cell_type": "markdown",
   "metadata": {
    "id": "bHCMc83Nudvq",
    "jp-MarkdownHeadingCollapsed": true,
    "tags": []
   },
   "source": [
    "<details>\n",
    "  <summary><h4><strong>Hint 2</strong></h4></summary>\n",
    "    \n",
    "To prepare the data for modeling, group the dataframe by industry and get the maximum value in the newly created column for each industry.\n",
    "\n",
    "</details>"
   ]
  },
  {
   "cell_type": "markdown",
   "metadata": {
    "id": "ttH8ynAyudvr",
    "jp-MarkdownHeadingCollapsed": true,
    "tags": []
   },
   "source": [
    "<details>\n",
    "  <summary><h4><strong>Hint 3</strong></h4></summary>\n",
    "\n",
    "You can use the `plt.bar()` to create the bar plot, passing in the categories and heights of the bars.\n",
    "\n",
    "You can use `plt.title()`, `plt.xlabel()`, and `plt.ylabel()` to set the title, x-axis label, and y-axis label, respectively. \n",
    "\n",
    "You can use `plt.xticks()` to rotate labels on the x-axis of a plot. The parameters `rotation=45, horizontalalignment='right'` can be passed in to rotate the labels by 45 degrees and align the labels to the right. \n",
    "\n",
    "You can use `plt.show()` to display a plot.\n",
    "\n",
    "</details>"
   ]
  },
  {
   "cell_type": "markdown",
   "metadata": {
    "id": "59a1254d-4c99-49a6-b8fa-8dbd26bff000"
   },
   "source": [
    "**Question:** What do you observe from this bar plot?"
   ]
  },
  {
   "cell_type": "markdown",
   "metadata": {
    "id": "QNdABMI_lUdO"
   },
   "source": [
    "Health industry turn around time to reach unicorn status was the highest.\n",
    "Travel/Auto Transportation industry turn around time to reach unicorn status was the lowest.\n",
    "\n"
   ]
  },
  {
   "cell_type": "code",
   "execution_count": 123,
   "metadata": {},
   "outputs": [
    {
     "data": {
      "image/png": "[encoded data removed]",
      "text/plain": [
       "<Figure size 720x432 with 1 Axes>"
      ]
     },
     "metadata": {
      "needs_background": "light"
     },
     "output_type": "display_data"
    }
   ],
   "source": [
    "import pandas as pd\n",
    "import matplotlib.pyplot as plt\n",
    "\n",
    "\n",
    "# Plotting\n",
    "fig, ax = plt.subplots(figsize=(10, 6))\n",
    "ax.bar(companies_sampled_by_industry['Industry'], companies_sampled_by_industry['num_years_to_unicorn_status'], color='orange')\n",
    "\n",
    "# Customizing the plot\n",
    "ax.set_title(\"Years to Reach Unicorn Status by Industry\")\n",
    "ax.set_xlabel(\"Industry\")\n",
    "ax.set_ylabel(\"Years to Unicorn Status\")\n",
    "\n",
    "# Rotate x-axis labels\n",
    "plt.xticks(rotation=45, ha='right')  # Rotate by 45 degrees, align labels to the right\n",
    "\n",
    "# Adjust layout and show the plot\n",
    "plt.tight_layout()\n",
    "plt.show()\n"
   ]
  },
  {
   "cell_type": "markdown",
   "metadata": {
    "id": "95bc4742-40ff-4f02-ba94-b25f95094e54",
    "tags": []
   },
   "source": [
    "### Visualize the maximum unicorn company valuation per industry\n",
    "\n",
    "Visualize unicorn companies' maximum valuation for each industry represented in the sample. To create a bar plot to visualize this, use the `bar()` function from the `matplotlib.pyplot` module. Before plotting, create a new column that represents the companies' valuations as numbers (instead of strings, as they're currently represented). Then, use this new column to plot your data."
   ]
  },
  {
   "cell_type": "code",
   "execution_count": 127,
   "metadata": {},
   "outputs": [
    {
     "name": "stdout",
     "output_type": "stream",
     "text": [
      "<class 'pandas.core.frame.DataFrame'>\n",
      "Int64Index: 50 entries, 164 to 525\n",
      "Data columns (total 13 columns):\n",
      " #   Column                       Non-Null Count  Dtype         \n",
      "---  ------                       --------------  -----         \n",
      " 0   Company                      50 non-null     object        \n",
      " 1   Valuation                    50 non-null     object        \n",
      " 2   Date Joined                  50 non-null     datetime64[ns]\n",
      " 3   Industry                     50 non-null     object        \n",
      " 4   City                         49 non-null     object        \n",
      " 5   Country/Region               50 non-null     object        \n",
      " 6   Continent                    50 non-null     object        \n",
      " 7   Year Founded                 50 non-null     int64         \n",
      " 8   Funding                      50 non-null     object        \n",
      " 9   Select Investors             50 non-null     object        \n",
      " 10  Year Joined                  50 non-null     int64         \n",
      " 11  num_years_to_unicorn_status  50 non-null     int64         \n",
      " 12  Valuation_numeric            50 non-null     int64         \n",
      "dtypes: datetime64[ns](1), int64(4), object(8)\n",
      "memory usage: 5.5+ KB\n"
     ]
    },
    {
     "data": {
      "text/html": [
       "<div>\n",
       "<style scoped>\n",
       "    .dataframe tbody tr th:only-of-type {\n",
       "        vertical-align: middle;\n",
       "    }\n",
       "\n",
       "    .dataframe tbody tr th {\n",
       "        vertical-align: top;\n",
       "    }\n",
       "\n",
       "    .dataframe thead th {\n",
       "        text-align: right;\n",
       "    }\n",
       "</style>\n",
       "<table border=\"1\" class=\"dataframe\">\n",
       "  <thead>\n",
       "    <tr style=\"text-align: right;\">\n",
       "      <th></th>\n",
       "      <th>Company</th>\n",
       "      <th>Valuation</th>\n",
       "      <th>Date Joined</th>\n",
       "      <th>Industry</th>\n",
       "      <th>City</th>\n",
       "      <th>Country/Region</th>\n",
       "      <th>Continent</th>\n",
       "      <th>Year Founded</th>\n",
       "      <th>Funding</th>\n",
       "      <th>Select Investors</th>\n",
       "      <th>Year Joined</th>\n",
       "      <th>num_years_to_unicorn_status</th>\n",
       "      <th>Valuation_numeric</th>\n",
       "    </tr>\n",
       "  </thead>\n",
       "  <tbody>\n",
       "    <tr>\n",
       "      <th>164</th>\n",
       "      <td>SambaNova Systems</td>\n",
       "      <td>$5B</td>\n",
       "      <td>2021-04-13</td>\n",
       "      <td>Data management &amp; analytics</td>\n",
       "      <td>Palo Alto</td>\n",
       "      <td>United States</td>\n",
       "      <td>North America</td>\n",
       "      <td>2017</td>\n",
       "      <td>$1B</td>\n",
       "      <td>Walden International, Google Ventures, Intel C...</td>\n",
       "      <td>2021</td>\n",
       "      <td>4</td>\n",
       "      <td>5</td>\n",
       "    </tr>\n",
       "    <tr>\n",
       "      <th>432</th>\n",
       "      <td>Uala</td>\n",
       "      <td>$2B</td>\n",
       "      <td>2021-08-13</td>\n",
       "      <td>Fintech</td>\n",
       "      <td>Buenos Aires</td>\n",
       "      <td>Argentina</td>\n",
       "      <td>South America</td>\n",
       "      <td>2017</td>\n",
       "      <td>$544M</td>\n",
       "      <td>Soros Fund Management, Ribbit Capital, Monashees+</td>\n",
       "      <td>2021</td>\n",
       "      <td>4</td>\n",
       "      <td>2</td>\n",
       "    </tr>\n",
       "    <tr>\n",
       "      <th>1036</th>\n",
       "      <td>Swile</td>\n",
       "      <td>$1B</td>\n",
       "      <td>2021-10-11</td>\n",
       "      <td>Fintech</td>\n",
       "      <td>Montpellier</td>\n",
       "      <td>France</td>\n",
       "      <td>Europe</td>\n",
       "      <td>2016</td>\n",
       "      <td>$326M</td>\n",
       "      <td>Index Ventures, IDInvest Partners, Daphni</td>\n",
       "      <td>2021</td>\n",
       "      <td>5</td>\n",
       "      <td>1</td>\n",
       "    </tr>\n",
       "    <tr>\n",
       "      <th>511</th>\n",
       "      <td>Opentrons</td>\n",
       "      <td>$2B</td>\n",
       "      <td>2021-09-23</td>\n",
       "      <td>Hardware</td>\n",
       "      <td>New York</td>\n",
       "      <td>United States</td>\n",
       "      <td>North America</td>\n",
       "      <td>2016</td>\n",
       "      <td>$240M</td>\n",
       "      <td>SOSV, Khosla Ventures, Lerer Hippeau</td>\n",
       "      <td>2021</td>\n",
       "      <td>5</td>\n",
       "      <td>2</td>\n",
       "    </tr>\n",
       "    <tr>\n",
       "      <th>541</th>\n",
       "      <td>Advance Intelligence Group</td>\n",
       "      <td>$2B</td>\n",
       "      <td>2021-09-23</td>\n",
       "      <td>Artificial intelligence</td>\n",
       "      <td>NaN</td>\n",
       "      <td>Singapore</td>\n",
       "      <td>Asia</td>\n",
       "      <td>2016</td>\n",
       "      <td>$536M</td>\n",
       "      <td>Vision Plus Capital, GSR Ventures, ZhenFund</td>\n",
       "      <td>2021</td>\n",
       "      <td>5</td>\n",
       "      <td>2</td>\n",
       "    </tr>\n",
       "  </tbody>\n",
       "</table>\n",
       "</div>"
      ],
      "text/plain": [
       "                         Company Valuation Date Joined  \\\n",
       "164            SambaNova Systems       $5B  2021-04-13   \n",
       "432                         Uala       $2B  2021-08-13   \n",
       "1036                       Swile       $1B  2021-10-11   \n",
       "511                    Opentrons       $2B  2021-09-23   \n",
       "541   Advance Intelligence Group       $2B  2021-09-23   \n",
       "\n",
       "                         Industry          City Country/Region      Continent  \\\n",
       "164   Data management & analytics     Palo Alto  United States  North America   \n",
       "432                       Fintech  Buenos Aires      Argentina  South America   \n",
       "1036                      Fintech   Montpellier         France         Europe   \n",
       "511                      Hardware      New York  United States  North America   \n",
       "541       Artificial intelligence           NaN      Singapore           Asia   \n",
       "\n",
       "      Year Founded Funding                                   Select Investors  \\\n",
       "164           2017     $1B  Walden International, Google Ventures, Intel C...   \n",
       "432           2017   $544M  Soros Fund Management, Ribbit Capital, Monashees+   \n",
       "1036          2016   $326M          Index Ventures, IDInvest Partners, Daphni   \n",
       "511           2016   $240M               SOSV, Khosla Ventures, Lerer Hippeau   \n",
       "541           2016   $536M        Vision Plus Capital, GSR Ventures, ZhenFund   \n",
       "\n",
       "      Year Joined  num_years_to_unicorn_status  Valuation_numeric  \n",
       "164          2021                            4                  5  \n",
       "432          2021                            4                  2  \n",
       "1036         2021                            5                  1  \n",
       "511          2021                            5                  2  \n",
       "541          2021                            5                  2  "
      ]
     },
     "execution_count": 127,
     "metadata": {},
     "output_type": "execute_result"
    }
   ],
   "source": [
    "# Create a column representing company valuation as numeric data\n",
    "\n",
    "# Create new column\n",
    "\n",
    "companies_sampled['Valuation_numeric'] = companies_sampled['Valuation'].apply(lambda x: int(x[1:-1]))\n",
    "companies_sampled.info()\n",
    "companies_sampled.head(5)"
   ]
  },
  {
   "cell_type": "code",
   "execution_count": 129,
   "metadata": {
    "id": "5ccf1d5e-877e-4e73-bba8-23875c72494d"
   },
   "outputs": [
    {
     "data": {
      "image/png": "[encoded data removed]",
      "text/plain": [
       "<Figure size 432x288 with 1 Axes>"
      ]
     },
     "metadata": {
      "needs_background": "light"
     },
     "output_type": "display_data"
    }
   ],
   "source": [
    "# Create bar plot\n",
    "# with the various industries as the categories of the bars\n",
    "# and the maximum valuation for each industry as the height of the bars\n",
    "\n",
    "valuation_grouped_by_industry = companies_sampled.groupby('Industry')[['Valuation_numeric']].max().sort_values('Valuation_numeric').reset_index()\n",
    "valuation_grouped_by_industry\n",
    "\n",
    "\n",
    "# Set title\n",
    "\n",
    "plt.bar(x=valuation_grouped_by_industry['Industry'],\n",
    "        height=valuation_grouped_by_industry['Valuation_numeric'],\n",
    "        label='Valuation', color='orange')\n",
    "\n",
    "\n",
    "# Set x-axis label\n",
    "\n",
    "plt.xlabel('Valuation in Billions of Dollars')\n",
    "\n",
    "\n",
    "# Set y-axis label\n",
    "\n",
    "plt.ylabel('Industry')\n",
    "\n",
    "\n",
    "# Rotate labels on the x-axis as a way to avoid overlap in the positions of the text  \n",
    "\n",
    "plt.xticks(rotation=45, ha='right')\n",
    "\n",
    "\n",
    "# Display the plot\n",
    "\n",
    "plt.tight_layout()\n",
    "plt.show()\n"
   ]
  },
  {
   "cell_type": "markdown",
   "metadata": {
    "id": "NnL6YrfFoA3G",
    "jp-MarkdownHeadingCollapsed": true,
    "tags": []
   },
   "source": [
    "<details>\n",
    "  <summary><h4><strong>Hint 1</strong></h4></summary>\n",
    "\n",
    "Repeat the process from the last task, only this time with different variables.\n",
    "</details>"
   ]
  },
  {
   "cell_type": "markdown",
   "metadata": {
    "id": "bo8rC9dZoA3H",
    "jp-MarkdownHeadingCollapsed": true,
    "tags": []
   },
   "source": [
    "<details>\n",
    "  <summary><h4><strong>Hint 2</strong></h4></summary>\n",
    "\n",
    "Use the function in the `matplotlib.pyplot` module that allows you to create a bar plot, specifying the category and height for each bar. \n",
    "\n",
    "Use the functions in the `matplotlib.pyplot` module that allow you to set the title, x-axis label, and y-axis label of plots. In that module, there are also functions for rotating the labels on the x-axis and displaying the plot. \n",
    "\n",
    "</details>"
   ]
  },
  {
   "cell_type": "markdown",
   "metadata": {
    "id": "TkeTAsUooA3J",
    "jp-MarkdownHeadingCollapsed": true,
    "tags": []
   },
   "source": [
    "<details>\n",
    "  <summary><h4><strong>Hint 3</strong></h4></summary>\n",
    "\n",
    "Use the `plt.bar()` to create the bar plot, passing in the categories and heights of the bars.\n",
    "\n",
    "Use `plt.title()`, `plt.xlabel()`, and `plt.ylabel()` to set the title, x-axis label, and y-axis label, respectively. \n",
    "\n",
    "Use `plt.xticks()` to rotate labels on the x-axis of a plot. The parameters `rotation=45, horizontalalignment='right'` can be passed in to rotate the labels by 45 degrees and align the labels to the right. \n",
    "\n",
    "Use `plt.show()` to display a plot.\n",
    "\n",
    "</details>"
   ]
  },
  {
   "cell_type": "markdown",
   "metadata": {
    "id": "441c0e4b-56bf-413c-9d40-abe1e5f13253"
   },
   "source": [
    "**Question:** What do you observe from this bar plot? "
   ]
  },
  {
   "cell_type": "markdown",
   "metadata": {
    "id": "p_XNHFiPlVvA"
   },
   "source": [
    "For this sample, Data Analytics, E-commerce, and Fintech have the highest/max valuations in their group compared to other industries."
   ]
  },
  {
   "cell_type": "markdown",
   "metadata": {
    "id": "c77e7f0f-d2b9-4464-8a7c-9575d1e1ef9f"
   },
   "source": [
    "## Considerations"
   ]
  },
  {
   "cell_type": "markdown",
   "metadata": {
    "id": "uPq1FOvCZI6w"
   },
   "source": [
    "**What are some key takeaways that you learned from this lab?**"
   ]
  },
  {
   "cell_type": "markdown",
   "metadata": {
    "id": "nOPK-j3sZLsm"
   },
   "source": [
    "I learned to re-read what summarization is being asked of me, because I had completely mis-interpreted once of the tasks and evaluated a completely other metric they were not interested in."
   ]
  },
  {
   "cell_type": "markdown",
   "metadata": {
    "id": "d2NnpyO_ZL6x"
   },
   "source": [
    "**What findings would you share with others?**"
   ]
  },
  {
   "cell_type": "markdown",
   "metadata": {
    "id": "goG0jEeQZOIr"
   },
   "source": [
    "I would share to an audience that if you want to start a business (according to this sample=7), I would go into Data Analytics, Fintech, or Ecommerce, because they have the shortest turn around time to become unicorns and they have the max valuations compared to other industries."
   ]
  },
  {
   "cell_type": "markdown",
   "metadata": {
    "id": "TLioKMc0ZTZi"
   },
   "source": [
    "**What recommendations would you share with stakeholders based on these findings?**"
   ]
  },
  {
   "cell_type": "markdown",
   "metadata": {
    "id": "mVFm54BfZTv5"
   },
   "source": [
    "For stakeholders and investors, I would tell them to invest in the companies that have the highest valuations if they want the biggest ROI."
   ]
  },
  {
   "cell_type": "markdown",
   "metadata": {
    "id": "R9sAADZgr-YI"
   },
   "source": [
    "**References**\n",
    "\n",
    "Bhat, M.A. (2022, March). [*Unicorn Companies*](https://www.kaggle.com/datasets/mysarahmadbhat/unicorn-companies). \n",
    "\n"
   ]
  },
  {
   "cell_type": "markdown",
   "metadata": {},
   "source": [
    "**Congratulations!** You've completed this lab. However, you may not notice a green check mark next to this item on Coursera's platform. Please continue your progress regardless of the check mark. Just click on the \"save\" icon at the top of this notebook to ensure your work has been logged."
   ]
  }
 ],
 "metadata": {
  "colab": {
   "collapsed_sections": [],
   "name": "SR-005_Learner_Facing_Lab_Round4.ipynb",
   "provenance": [],
   "toc_visible": true
  },
  "kernelspec": {
   "display_name": "Python 3",
   "language": "python",
   "name": "python3"
  },
  "language_info": {
   "codemirror_mode": {
    "name": "ipython",
    "version": 3
   },
   "file_extension": ".py",
   "mimetype": "text/x-python",
   "name": "python",
   "nbconvert_exporter": "python",
   "pygments_lexer": "ipython3",
   "version": "3.7.6"
  },
  "toc-autonumbering": false,
  "toc-showtags": false
 },
 "nbformat": 4,
 "nbformat_minor": 5
}
